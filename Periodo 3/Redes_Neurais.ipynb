{
  "cells": [
    {
      "cell_type": "markdown",
      "id": "6b5b397e",
      "metadata": {
        "id": "6b5b397e"
      },
      "source": [
        "## Introdução\n",
        "\n",
        "Neste notebook, vamos criar uma rede neural capaz de classificar objetos celestes em três categorias:\n",
        "\n",
        "- Galáxias\n",
        "- Estrelas\n",
        "- Quasares\n",
        "\n",
        "O conjunto de dados utilizado é o Stellar Classification Dataset (SDSS17).  \n",
        "O objetivo é aplicar conceitos de Deep Learning para resolver um problema de classificação multiclasse.\n",
        "\n",
        "Durante o processo, também vamos:\n",
        "\n",
        "- Investigar o impacto de largura e profundidade da rede;\n",
        "- Analisar overfitting e underfitting ao variar épocas e taxa de aprendizado;\n",
        "- Explorar técnicas de regularização e otimizadores diferentes.\n",
        "\n",
        "O framework utilizado será o TensorFlow (Keras).\n"
      ]
    },
    {
      "cell_type": "code",
      "execution_count": 3,
      "id": "f8ae3202",
      "metadata": {
        "id": "f8ae3202"
      },
      "outputs": [],
      "source": [
        "!pip install -q tensorflow pandas matplotlib scikit-learn\n",
        "\n",
        "import pandas as pd\n",
        "import numpy as np\n",
        "import matplotlib.pyplot as plt\n",
        "from sklearn.model_selection import train_test_split\n",
        "from sklearn.preprocessing import StandardScaler, LabelEncoder\n",
        "import tensorflow as tf\n",
        "from tensorflow.keras import models, layers, regularizers, optimizers"
      ]
    },
    {
      "cell_type": "markdown",
      "id": "89f3cc42",
      "metadata": {
        "id": "89f3cc42"
      },
      "source": [
        "## Carregamento e pré-processamento dos dados\n",
        "\n",
        "Antes de treinar o modelo, precisamos preparar os dados.  \n",
        "Isso inclui:\n",
        "\n",
        "- Carregar o CSV com os dados do SDSS17;\n",
        "- Remover colunas irrelevantes (como IDs);\n",
        "- Codificar as classes como números;\n",
        "- Normalizar os atributos numéricos;\n",
        "- Dividir os dados entre treino e teste.\n"
      ]
    },
    {
      "cell_type": "code",
      "execution_count": 4,
      "id": "c3174c73",
      "metadata": {
        "colab": {
          "base_uri": "https://localhost:8080/",
          "height": 73
        },
        "id": "c3174c73",
        "outputId": "6280cdab-32bb-49bc-949b-07f8a3859112"
      },
      "outputs": [
        {
          "output_type": "display_data",
          "data": {
            "text/plain": [
              "<IPython.core.display.HTML object>"
            ],
            "text/html": [
              "\n",
              "     <input type=\"file\" id=\"files-1c0f08e8-b0a3-4cfc-bf6c-9e75114f7603\" name=\"files[]\" multiple disabled\n",
              "        style=\"border:none\" />\n",
              "     <output id=\"result-1c0f08e8-b0a3-4cfc-bf6c-9e75114f7603\">\n",
              "      Upload widget is only available when the cell has been executed in the\n",
              "      current browser session. Please rerun this cell to enable.\n",
              "      </output>\n",
              "      <script>// Copyright 2017 Google LLC\n",
              "//\n",
              "// Licensed under the Apache License, Version 2.0 (the \"License\");\n",
              "// you may not use this file except in compliance with the License.\n",
              "// You may obtain a copy of the License at\n",
              "//\n",
              "//      http://www.apache.org/licenses/LICENSE-2.0\n",
              "//\n",
              "// Unless required by applicable law or agreed to in writing, software\n",
              "// distributed under the License is distributed on an \"AS IS\" BASIS,\n",
              "// WITHOUT WARRANTIES OR CONDITIONS OF ANY KIND, either express or implied.\n",
              "// See the License for the specific language governing permissions and\n",
              "// limitations under the License.\n",
              "\n",
              "/**\n",
              " * @fileoverview Helpers for google.colab Python module.\n",
              " */\n",
              "(function(scope) {\n",
              "function span(text, styleAttributes = {}) {\n",
              "  const element = document.createElement('span');\n",
              "  element.textContent = text;\n",
              "  for (const key of Object.keys(styleAttributes)) {\n",
              "    element.style[key] = styleAttributes[key];\n",
              "  }\n",
              "  return element;\n",
              "}\n",
              "\n",
              "// Max number of bytes which will be uploaded at a time.\n",
              "const MAX_PAYLOAD_SIZE = 100 * 1024;\n",
              "\n",
              "function _uploadFiles(inputId, outputId) {\n",
              "  const steps = uploadFilesStep(inputId, outputId);\n",
              "  const outputElement = document.getElementById(outputId);\n",
              "  // Cache steps on the outputElement to make it available for the next call\n",
              "  // to uploadFilesContinue from Python.\n",
              "  outputElement.steps = steps;\n",
              "\n",
              "  return _uploadFilesContinue(outputId);\n",
              "}\n",
              "\n",
              "// This is roughly an async generator (not supported in the browser yet),\n",
              "// where there are multiple asynchronous steps and the Python side is going\n",
              "// to poll for completion of each step.\n",
              "// This uses a Promise to block the python side on completion of each step,\n",
              "// then passes the result of the previous step as the input to the next step.\n",
              "function _uploadFilesContinue(outputId) {\n",
              "  const outputElement = document.getElementById(outputId);\n",
              "  const steps = outputElement.steps;\n",
              "\n",
              "  const next = steps.next(outputElement.lastPromiseValue);\n",
              "  return Promise.resolve(next.value.promise).then((value) => {\n",
              "    // Cache the last promise value to make it available to the next\n",
              "    // step of the generator.\n",
              "    outputElement.lastPromiseValue = value;\n",
              "    return next.value.response;\n",
              "  });\n",
              "}\n",
              "\n",
              "/**\n",
              " * Generator function which is called between each async step of the upload\n",
              " * process.\n",
              " * @param {string} inputId Element ID of the input file picker element.\n",
              " * @param {string} outputId Element ID of the output display.\n",
              " * @return {!Iterable<!Object>} Iterable of next steps.\n",
              " */\n",
              "function* uploadFilesStep(inputId, outputId) {\n",
              "  const inputElement = document.getElementById(inputId);\n",
              "  inputElement.disabled = false;\n",
              "\n",
              "  const outputElement = document.getElementById(outputId);\n",
              "  outputElement.innerHTML = '';\n",
              "\n",
              "  const pickedPromise = new Promise((resolve) => {\n",
              "    inputElement.addEventListener('change', (e) => {\n",
              "      resolve(e.target.files);\n",
              "    });\n",
              "  });\n",
              "\n",
              "  const cancel = document.createElement('button');\n",
              "  inputElement.parentElement.appendChild(cancel);\n",
              "  cancel.textContent = 'Cancel upload';\n",
              "  const cancelPromise = new Promise((resolve) => {\n",
              "    cancel.onclick = () => {\n",
              "      resolve(null);\n",
              "    };\n",
              "  });\n",
              "\n",
              "  // Wait for the user to pick the files.\n",
              "  const files = yield {\n",
              "    promise: Promise.race([pickedPromise, cancelPromise]),\n",
              "    response: {\n",
              "      action: 'starting',\n",
              "    }\n",
              "  };\n",
              "\n",
              "  cancel.remove();\n",
              "\n",
              "  // Disable the input element since further picks are not allowed.\n",
              "  inputElement.disabled = true;\n",
              "\n",
              "  if (!files) {\n",
              "    return {\n",
              "      response: {\n",
              "        action: 'complete',\n",
              "      }\n",
              "    };\n",
              "  }\n",
              "\n",
              "  for (const file of files) {\n",
              "    const li = document.createElement('li');\n",
              "    li.append(span(file.name, {fontWeight: 'bold'}));\n",
              "    li.append(span(\n",
              "        `(${file.type || 'n/a'}) - ${file.size} bytes, ` +\n",
              "        `last modified: ${\n",
              "            file.lastModifiedDate ? file.lastModifiedDate.toLocaleDateString() :\n",
              "                                    'n/a'} - `));\n",
              "    const percent = span('0% done');\n",
              "    li.appendChild(percent);\n",
              "\n",
              "    outputElement.appendChild(li);\n",
              "\n",
              "    const fileDataPromise = new Promise((resolve) => {\n",
              "      const reader = new FileReader();\n",
              "      reader.onload = (e) => {\n",
              "        resolve(e.target.result);\n",
              "      };\n",
              "      reader.readAsArrayBuffer(file);\n",
              "    });\n",
              "    // Wait for the data to be ready.\n",
              "    let fileData = yield {\n",
              "      promise: fileDataPromise,\n",
              "      response: {\n",
              "        action: 'continue',\n",
              "      }\n",
              "    };\n",
              "\n",
              "    // Use a chunked sending to avoid message size limits. See b/62115660.\n",
              "    let position = 0;\n",
              "    do {\n",
              "      const length = Math.min(fileData.byteLength - position, MAX_PAYLOAD_SIZE);\n",
              "      const chunk = new Uint8Array(fileData, position, length);\n",
              "      position += length;\n",
              "\n",
              "      const base64 = btoa(String.fromCharCode.apply(null, chunk));\n",
              "      yield {\n",
              "        response: {\n",
              "          action: 'append',\n",
              "          file: file.name,\n",
              "          data: base64,\n",
              "        },\n",
              "      };\n",
              "\n",
              "      let percentDone = fileData.byteLength === 0 ?\n",
              "          100 :\n",
              "          Math.round((position / fileData.byteLength) * 100);\n",
              "      percent.textContent = `${percentDone}% done`;\n",
              "\n",
              "    } while (position < fileData.byteLength);\n",
              "  }\n",
              "\n",
              "  // All done.\n",
              "  yield {\n",
              "    response: {\n",
              "      action: 'complete',\n",
              "    }\n",
              "  };\n",
              "}\n",
              "\n",
              "scope.google = scope.google || {};\n",
              "scope.google.colab = scope.google.colab || {};\n",
              "scope.google.colab._files = {\n",
              "  _uploadFiles,\n",
              "  _uploadFilesContinue,\n",
              "};\n",
              "})(self);\n",
              "</script> "
            ]
          },
          "metadata": {}
        },
        {
          "output_type": "stream",
          "name": "stdout",
          "text": [
            "Saving star_classification.csv to star_classification.csv\n"
          ]
        }
      ],
      "source": [
        "from google.colab import files\n",
        "uploaded = files.upload()"
      ]
    },
    {
      "cell_type": "code",
      "execution_count": 7,
      "id": "71750ff3",
      "metadata": {
        "id": "71750ff3"
      },
      "outputs": [],
      "source": [
        "df = pd.read_csv('star_classification.csv')\n",
        "df = df.drop(columns=['obj_ID', 'spec_obj_ID', 'fiber_ID', 'run_ID'])\n",
        "le = LabelEncoder()\n",
        "df['class'] = le.fit_transform(df['class'])\n",
        "X = df.drop(columns=['class'])\n",
        "y = df['class']\n",
        "scaler = StandardScaler()\n",
        "X_scaled = scaler.fit_transform(X)\n",
        "X_train, X_test, y_train, y_test = train_test_split(X_scaled, y, test_size=0.2, random_state=42)\n"
      ]
    },
    {
      "cell_type": "markdown",
      "id": "647d12a3",
      "metadata": {
        "id": "647d12a3"
      },
      "source": [
        "## Definindo a arquitetura da rede neural\n",
        "\n",
        "Agora vamos criar uma função que gera uma rede neural com os parâmetros:\n",
        "\n",
        "- Largura: quantos neurônios por camada oculta;\n",
        "- Profundidade: quantas camadas ocultas usar;\n",
        "- Regularização L2: técnica para reduzir overfitting penalizando pesos grandes;\n",
        "- Otimizador: algoritmo para atualizar os pesos da rede.\n"
      ]
    },
    {
      "cell_type": "code",
      "execution_count": 8,
      "id": "3c8c43c9",
      "metadata": {
        "id": "3c8c43c9"
      },
      "outputs": [],
      "source": [
        "def build_model(input_dim, width=64, depth=2, lr=0.001, l2=0.0, optimizer_name='adam'):\n",
        "    model = models.Sequential()\n",
        "    for _ in range(depth):\n",
        "        model.add(layers.Dense(width, activation='relu',\n",
        "                               kernel_regularizer=regularizers.l2(l2),\n",
        "                               input_dim=input_dim))\n",
        "        input_dim = width\n",
        "    model.add(layers.Dense(3, activation='softmax'))\n",
        "\n",
        "    optimizer_dict = {\n",
        "        'adam': optimizers.Adam(learning_rate=lr),\n",
        "        'sgd': optimizers.SGD(learning_rate=lr),\n",
        "        'rmsprop': optimizers.RMSprop(learning_rate=lr)\n",
        "    }\n",
        "\n",
        "    model.compile(optimizer=optimizer_dict[optimizer_name],\n",
        "                  loss='sparse_categorical_crossentropy',\n",
        "                  metrics=['accuracy'])\n",
        "    return model\n"
      ]
    },
    {
      "cell_type": "markdown",
      "id": "470267c9",
      "metadata": {
        "id": "470267c9"
      },
      "source": [
        "## Treinamento do modelo e visualização dos resultados\n",
        "\n",
        "Vamos criar uma função que:\n",
        "\n",
        "- Treina a rede neural com base nos parâmetros fornecidos;\n",
        "- Gera gráficos de acurácia e perda durante as épocas;\n",
        "- Ajuda a diagnosticar overfitting e underfitting.\n"
      ]
    },
    {
      "cell_type": "code",
      "execution_count": 9,
      "id": "9661987b",
      "metadata": {
        "id": "9661987b"
      },
      "outputs": [],
      "source": [
        "def train_and_plot(width, depth, epochs=50, lr=0.001, l2=0.0, optimizer='adam'):\n",
        "    model = build_model(X_train.shape[1], width, depth, lr, l2, optimizer)\n",
        "    history = model.fit(X_train, y_train, validation_data=(X_test, y_test),\n",
        "                        epochs=epochs, verbose=0)\n",
        "\n",
        "    plt.figure(figsize=(12, 5))\n",
        "    plt.subplot(1, 2, 1)\n",
        "    plt.plot(history.history['accuracy'], label='Treino')\n",
        "    plt.plot(history.history['val_accuracy'], label='Validação')\n",
        "    plt.title('Acurácia')\n",
        "    plt.xlabel('Épocas')\n",
        "    plt.ylabel('Acurácia')\n",
        "    plt.legend()\n",
        "\n",
        "    plt.subplot(1, 2, 2)\n",
        "    plt.plot(history.history['loss'], label='Treino')\n",
        "    plt.plot(history.history['val_loss'], label='Validação')\n",
        "    plt.title('Loss')\n",
        "    plt.xlabel('Épocas')\n",
        "    plt.ylabel('Loss')\n",
        "    plt.legend()\n",
        "\n",
        "    plt.suptitle(f\"width={width}, depth={depth}, lr={lr}, l2={l2}, opt={optimizer}\")\n",
        "    plt.show()\n"
      ]
    },
    {
      "cell_type": "markdown",
      "id": "0de28bc6",
      "metadata": {
        "id": "0de28bc6"
      },
      "source": [
        "## Testes: variando largura, profundidade, learning rate, regularização e otimizadores\n",
        "\n",
        "Agora vamos realizar experimentos práticos:\n",
        "\n",
        "1. Largura – mais neurônios por camada permitem capturar padrões mais complexos;\n",
        "2. Profundidade – redes mais profundas têm maior capacidade de abstração;\n",
        "3. Épocas e Learning Rate – permitem ajustar a velocidade e duração do aprendizado;\n",
        "4. Regularização – combate o overfitting penalizando pesos exagerados;\n",
        "5. Otimizadores – algoritmos diferentes podem melhorar a convergência.\n"
      ]
    },
    {
      "cell_type": "code",
      "execution_count": null,
      "id": "f1cde69c",
      "metadata": {
        "id": "f1cde69c",
        "colab": {
          "base_uri": "https://localhost:8080/",
          "height": 572
        },
        "outputId": "9f4b5c99-d7a9-4ba3-ea9f-690fb928eb28"
      },
      "outputs": [
        {
          "output_type": "stream",
          "name": "stderr",
          "text": [
            "/usr/local/lib/python3.11/dist-packages/keras/src/layers/core/dense.py:87: UserWarning: Do not pass an `input_shape`/`input_dim` argument to a layer. When using Sequential models, prefer using an `Input(shape)` object as the first layer in the model instead.\n",
            "  super().__init__(activity_regularizer=activity_regularizer, **kwargs)\n"
          ]
        },
        {
          "output_type": "display_data",
          "data": {
            "text/plain": [
              "<Figure size 1200x500 with 2 Axes>"
            ],
            "image/png": "[encoded data removed]"
          },
          "metadata": {}
        }
      ],
      "source": [
        "train_and_plot(width=8, depth=1, epochs=50, lr=0.001)\n",
        "train_and_plot(width=64, depth=1, epochs=50, lr=0.001)\n",
        "train_and_plot(width=64, depth=4, epochs=50, lr=0.001)\n",
        "train_and_plot(width=64, depth=2, epochs=50, lr=0.01)\n",
        "train_and_plot(width=64, depth=2, epochs=50, lr=0.001, l2=0.01)\n",
        "train_and_plot(width=64, depth=2, epochs=50, lr=0.01, optimizer='sgd')\n"
      ]
    }
  ],
  "metadata": {
    "colab": {
      "provenance": []
    },
    "language_info": {
      "name": "python"
    },
    "kernelspec": {
      "name": "python3",
      "display_name": "Python 3"
    }
  },
  "nbformat": 4,
  "nbformat_minor": 5
}