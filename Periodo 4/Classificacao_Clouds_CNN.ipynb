{
  "cells": [
    {
      "cell_type": "markdown",
      "source": [
        "# Introdução\n",
        "\n",
        "Esta atividade faz parte do Treinamento CIS - 4º Período, abordando Redes Neurais Convolucionais (CNN) para classificação de nuvens. O objetivo é construir uma CNN do zero usando PyTorch e avaliar seu desempenho no dataset."
      ],
      "metadata": {
        "id": "lgWPVzpKRl9R"
      },
      "id": "lgWPVzpKRl9R"
    },
    {
      "cell_type": "markdown",
      "source": [
        "# Instalação e Importação de Bibliotecas\n",
        "\n",
        "Nesta célula, instalamos e importamos as bibliotecas necessárias para o projeto. Utilizamos PyTorch para construir a CNN, torchvision para manipulação de imagens e matplotlib para visualização dos resultados."
      ],
      "metadata": {
        "id": "obtF7WxpRrGJ"
      },
      "id": "obtF7WxpRrGJ"
    },
    {
      "cell_type": "code",
      "execution_count": 17,
      "id": "9ebdcd23",
      "metadata": {
        "id": "9ebdcd23"
      },
      "outputs": [],
      "source": [
        "import torch\n",
        "import torch.nn as nn\n",
        "import torch.optim as optim\n",
        "from torchvision import datasets, transforms\n",
        "from torch.utils.data import DataLoader\n",
        "import matplotlib.pyplot as plt"
      ]
    },
    {
      "cell_type": "markdown",
      "source": [
        "#Verificação de GPU\n",
        "\n",
        "Aqui verificamos se há uma GPU disponível para acelerar o treinamento da CNN. Caso contrário, o código será executado na CPU."
      ],
      "metadata": {
        "id": "MvY9Uf7NR5Zz"
      },
      "id": "MvY9Uf7NR5Zz"
    },
    {
      "cell_type": "code",
      "source": [
        "device = torch.device(\"cuda\" if torch.cuda.is_available() else \"cpu\")\n",
        "print(f\"Usando dispositivo: {device}\")"
      ],
      "metadata": {
        "colab": {
          "base_uri": "https://localhost:8080/"
        },
        "id": "AWVAdR2KR4m0",
        "outputId": "ba826b50-f698-492a-9d1d-7d6645e5140c"
      },
      "id": "AWVAdR2KR4m0",
      "execution_count": 18,
      "outputs": [
        {
          "output_type": "stream",
          "name": "stdout",
          "text": [
            "Usando dispositivo: cuda\n"
          ]
        }
      ]
    },
    {
      "cell_type": "markdown",
      "source": [
        "#Upload e Extração do Dataset\n",
        "\n",
        "Nesta etapa, fazemos o upload do dataset para o Google Colab e extraímos os arquivos compactados. Em seguida, verificamos os arquivos extraídos para garantir que tudo esteja correto."
      ],
      "metadata": {
        "id": "DcwgxE2lOxoQ"
      },
      "id": "DcwgxE2lOxoQ"
    },
    {
      "cell_type": "code",
      "source": [
        "from google.colab import files\n",
        "\n",
        "uploaded = files.upload()"
      ],
      "metadata": {
        "colab": {
          "base_uri": "https://localhost:8080/",
          "height": 74
        },
        "id": "rsnzd0DeO194",
        "outputId": "6a01a551-c112-4a4e-c913-d1b1f6a4f58c"
      },
      "id": "rsnzd0DeO194",
      "execution_count": 19,
      "outputs": [
        {
          "output_type": "display_data",
          "data": {
            "text/plain": [
              "<IPython.core.display.HTML object>"
            ],
            "text/html": [
              "\n",
              "     <input type=\"file\" id=\"files-c245cfdc-ac64-464a-8cc5-35c26064fc08\" name=\"files[]\" multiple disabled\n",
              "        style=\"border:none\" />\n",
              "     <output id=\"result-c245cfdc-ac64-464a-8cc5-35c26064fc08\">\n",
              "      Upload widget is only available when the cell has been executed in the\n",
              "      current browser session. Please rerun this cell to enable.\n",
              "      </output>\n",
              "      <script>// Copyright 2017 Google LLC\n",
              "//\n",
              "// Licensed under the Apache License, Version 2.0 (the \"License\");\n",
              "// you may not use this file except in compliance with the License.\n",
              "// You may obtain a copy of the License at\n",
              "//\n",
              "//      http://www.apache.org/licenses/LICENSE-2.0\n",
              "//\n",
              "// Unless required by applicable law or agreed to in writing, software\n",
              "// distributed under the License is distributed on an \"AS IS\" BASIS,\n",
              "// WITHOUT WARRANTIES OR CONDITIONS OF ANY KIND, either express or implied.\n",
              "// See the License for the specific language governing permissions and\n",
              "// limitations under the License.\n",
              "\n",
              "/**\n",
              " * @fileoverview Helpers for google.colab Python module.\n",
              " */\n",
              "(function(scope) {\n",
              "function span(text, styleAttributes = {}) {\n",
              "  const element = document.createElement('span');\n",
              "  element.textContent = text;\n",
              "  for (const key of Object.keys(styleAttributes)) {\n",
              "    element.style[key] = styleAttributes[key];\n",
              "  }\n",
              "  return element;\n",
              "}\n",
              "\n",
              "// Max number of bytes which will be uploaded at a time.\n",
              "const MAX_PAYLOAD_SIZE = 100 * 1024;\n",
              "\n",
              "function _uploadFiles(inputId, outputId) {\n",
              "  const steps = uploadFilesStep(inputId, outputId);\n",
              "  const outputElement = document.getElementById(outputId);\n",
              "  // Cache steps on the outputElement to make it available for the next call\n",
              "  // to uploadFilesContinue from Python.\n",
              "  outputElement.steps = steps;\n",
              "\n",
              "  return _uploadFilesContinue(outputId);\n",
              "}\n",
              "\n",
              "// This is roughly an async generator (not supported in the browser yet),\n",
              "// where there are multiple asynchronous steps and the Python side is going\n",
              "// to poll for completion of each step.\n",
              "// This uses a Promise to block the python side on completion of each step,\n",
              "// then passes the result of the previous step as the input to the next step.\n",
              "function _uploadFilesContinue(outputId) {\n",
              "  const outputElement = document.getElementById(outputId);\n",
              "  const steps = outputElement.steps;\n",
              "\n",
              "  const next = steps.next(outputElement.lastPromiseValue);\n",
              "  return Promise.resolve(next.value.promise).then((value) => {\n",
              "    // Cache the last promise value to make it available to the next\n",
              "    // step of the generator.\n",
              "    outputElement.lastPromiseValue = value;\n",
              "    return next.value.response;\n",
              "  });\n",
              "}\n",
              "\n",
              "/**\n",
              " * Generator function which is called between each async step of the upload\n",
              " * process.\n",
              " * @param {string} inputId Element ID of the input file picker element.\n",
              " * @param {string} outputId Element ID of the output display.\n",
              " * @return {!Iterable<!Object>} Iterable of next steps.\n",
              " */\n",
              "function* uploadFilesStep(inputId, outputId) {\n",
              "  const inputElement = document.getElementById(inputId);\n",
              "  inputElement.disabled = false;\n",
              "\n",
              "  const outputElement = document.getElementById(outputId);\n",
              "  outputElement.innerHTML = '';\n",
              "\n",
              "  const pickedPromise = new Promise((resolve) => {\n",
              "    inputElement.addEventListener('change', (e) => {\n",
              "      resolve(e.target.files);\n",
              "    });\n",
              "  });\n",
              "\n",
              "  const cancel = document.createElement('button');\n",
              "  inputElement.parentElement.appendChild(cancel);\n",
              "  cancel.textContent = 'Cancel upload';\n",
              "  const cancelPromise = new Promise((resolve) => {\n",
              "    cancel.onclick = () => {\n",
              "      resolve(null);\n",
              "    };\n",
              "  });\n",
              "\n",
              "  // Wait for the user to pick the files.\n",
              "  const files = yield {\n",
              "    promise: Promise.race([pickedPromise, cancelPromise]),\n",
              "    response: {\n",
              "      action: 'starting',\n",
              "    }\n",
              "  };\n",
              "\n",
              "  cancel.remove();\n",
              "\n",
              "  // Disable the input element since further picks are not allowed.\n",
              "  inputElement.disabled = true;\n",
              "\n",
              "  if (!files) {\n",
              "    return {\n",
              "      response: {\n",
              "        action: 'complete',\n",
              "      }\n",
              "    };\n",
              "  }\n",
              "\n",
              "  for (const file of files) {\n",
              "    const li = document.createElement('li');\n",
              "    li.append(span(file.name, {fontWeight: 'bold'}));\n",
              "    li.append(span(\n",
              "        `(${file.type || 'n/a'}) - ${file.size} bytes, ` +\n",
              "        `last modified: ${\n",
              "            file.lastModifiedDate ? file.lastModifiedDate.toLocaleDateString() :\n",
              "                                    'n/a'} - `));\n",
              "    const percent = span('0% done');\n",
              "    li.appendChild(percent);\n",
              "\n",
              "    outputElement.appendChild(li);\n",
              "\n",
              "    const fileDataPromise = new Promise((resolve) => {\n",
              "      const reader = new FileReader();\n",
              "      reader.onload = (e) => {\n",
              "        resolve(e.target.result);\n",
              "      };\n",
              "      reader.readAsArrayBuffer(file);\n",
              "    });\n",
              "    // Wait for the data to be ready.\n",
              "    let fileData = yield {\n",
              "      promise: fileDataPromise,\n",
              "      response: {\n",
              "        action: 'continue',\n",
              "      }\n",
              "    };\n",
              "\n",
              "    // Use a chunked sending to avoid message size limits. See b/62115660.\n",
              "    let position = 0;\n",
              "    do {\n",
              "      const length = Math.min(fileData.byteLength - position, MAX_PAYLOAD_SIZE);\n",
              "      const chunk = new Uint8Array(fileData, position, length);\n",
              "      position += length;\n",
              "\n",
              "      const base64 = btoa(String.fromCharCode.apply(null, chunk));\n",
              "      yield {\n",
              "        response: {\n",
              "          action: 'append',\n",
              "          file: file.name,\n",
              "          data: base64,\n",
              "        },\n",
              "      };\n",
              "\n",
              "      let percentDone = fileData.byteLength === 0 ?\n",
              "          100 :\n",
              "          Math.round((position / fileData.byteLength) * 100);\n",
              "      percent.textContent = `${percentDone}% done`;\n",
              "\n",
              "    } while (position < fileData.byteLength);\n",
              "  }\n",
              "\n",
              "  // All done.\n",
              "  yield {\n",
              "    response: {\n",
              "      action: 'complete',\n",
              "    }\n",
              "  };\n",
              "}\n",
              "\n",
              "scope.google = scope.google || {};\n",
              "scope.google.colab = scope.google.colab || {};\n",
              "scope.google.colab._files = {\n",
              "  _uploadFiles,\n",
              "  _uploadFilesContinue,\n",
              "};\n",
              "})(self);\n",
              "</script> "
            ]
          },
          "metadata": {}
        },
        {
          "output_type": "stream",
          "name": "stdout",
          "text": [
            "Saving classificandos-nuvens-usando-cnn.zip to classificandos-nuvens-usando-cnn (1).zip\n"
          ]
        }
      ]
    },
    {
      "cell_type": "code",
      "source": [
        "import zipfile\n",
        "import os\n",
        "\n",
        "zip_path = \"/content/classificandos-nuvens-usando-cnn.zip\"\n",
        "extract_path = \"/content/classificandos-nuvens-usando-cnn\"\n",
        "\n",
        "with zipfile.ZipFile(zip_path, 'r') as zip_ref:\n",
        "    zip_ref.extractall(extract_path)\n",
        "\n",
        "# Verificar os arquivos extraídos\n",
        "os.listdir(extract_path)"
      ],
      "metadata": {
        "colab": {
          "base_uri": "https://localhost:8080/"
        },
        "id": "hOnuK0gDO84x",
        "outputId": "d7f136b0-8226-4ecc-d26a-8fdb81c87d84"
      },
      "id": "hOnuK0gDO84x",
      "execution_count": 20,
      "outputs": [
        {
          "output_type": "execute_result",
          "data": {
            "text/plain": [
              "['clouds']"
            ]
          },
          "metadata": {},
          "execution_count": 20
        }
      ]
    },
    {
      "cell_type": "markdown",
      "source": [
        "# Pré-Processamento de Imagens\n",
        "\n",
        "O pré-processamento é essencial para garantir que as imagens estejam no formato adequado para a CNN. Aplicamos as seguintes transformações:\n",
        "\n",
        "* Redimensionamento para 128x128 pixels.\n",
        "* Conversão para tensor.\n",
        "* Normalização para melhorar o desempenho do modelo."
      ],
      "metadata": {
        "id": "JbOexSvSSOou"
      },
      "id": "JbOexSvSSOou"
    },
    {
      "cell_type": "code",
      "execution_count": 21,
      "id": "e4655ca3",
      "metadata": {
        "colab": {
          "base_uri": "https://localhost:8080/"
        },
        "id": "e4655ca3",
        "outputId": "0aba7904-3557-42d5-d646-2bf02b6ae535"
      },
      "outputs": [
        {
          "output_type": "stream",
          "name": "stdout",
          "text": [
            "Classes: ['cirriform clouds', 'clear sky', 'cumulonimbus clouds', 'cumulus clouds', 'high cumuliform clouds', 'stratiform clouds', 'stratocumulus clouds']\n"
          ]
        }
      ],
      "source": [
        "transform = transforms.Compose([\n",
        "    transforms.Resize((128, 128)),\n",
        "    transforms.ToTensor(),\n",
        "    transforms.Normalize(mean=[0.5], std=[0.5])\n",
        "])\n",
        "\n",
        "train_dir = \"/content/classificandos-nuvens-usando-cnn/clouds/clouds_train\"\n",
        "test_dir = \"/content/classificandos-nuvens-usando-cnn/clouds/clouds_test\"\n",
        "\n",
        "# 📂 Datasets e Loaders\n",
        "train_dataset = datasets.ImageFolder(train_dir, transform=transform)\n",
        "test_dataset = datasets.ImageFolder(test_dir, transform=transform)\n",
        "\n",
        "train_loader = DataLoader(train_dataset, batch_size=32, shuffle=True)\n",
        "test_loader = DataLoader(test_dataset, batch_size=32, shuffle=False)\n",
        "\n",
        "print(f\"Classes: {train_dataset.classes}\")\n",
        "num_classes = len(train_dataset.classes)"
      ]
    },
    {
      "cell_type": "markdown",
      "source": [
        "# Construção da CNN\n",
        "A CNN é composta por:\n",
        "* Camadas convolucionais para extração de características.\n",
        "* ReLU para introduzir não-linearidade.\n",
        "* MaxPooling para reduzir a dimensionalidade.\n",
        "* Camadas totalmente conectadas para classificação."
      ],
      "metadata": {
        "id": "CaIA2FiwStBZ"
      },
      "id": "CaIA2FiwStBZ"
    },
    {
      "cell_type": "code",
      "execution_count": 22,
      "id": "6285f0d7",
      "metadata": {
        "id": "6285f0d7"
      },
      "outputs": [],
      "source": [
        "class CloudCNN(nn.Module):\n",
        "    def __init__(self, num_classes):\n",
        "        super(CloudCNN, self).__init__()\n",
        "        self.conv = nn.Sequential(\n",
        "            nn.Conv2d(3, 16, kernel_size=3, padding=1),\n",
        "            nn.ReLU(),\n",
        "            nn.MaxPool2d(2),\n",
        "\n",
        "            nn.Conv2d(16, 32, kernel_size=3, padding=1),\n",
        "            nn.ReLU(),\n",
        "            nn.MaxPool2d(2),\n",
        "\n",
        "            nn.Conv2d(32, 64, kernel_size=3, padding=1),\n",
        "            nn.ReLU(),\n",
        "            nn.MaxPool2d(2)\n",
        "        )\n",
        "        self.classifier = nn.Sequential(\n",
        "            nn.Flatten(),\n",
        "            nn.Linear(64 * 16 * 16, 128),\n",
        "            nn.ReLU(),\n",
        "            nn.Dropout(0.5),\n",
        "            nn.Linear(128, num_classes)\n",
        "        )\n",
        "\n",
        "    def forward(self, x):\n",
        "        x = self.conv(x)\n",
        "        x = self.classifier(x)\n",
        "        return x\n",
        "\n",
        "model = CloudCNN(num_classes).to(device)"
      ]
    },
    {
      "cell_type": "markdown",
      "source": [
        "# Treinamento da CNN\n",
        "Nesta etapa, treinamos a CNN utilizando:\n",
        "* CrossEntropyLoss como função de perda.\n",
        "* Adam como otimizador.\n",
        "* 10 épocas para aprendizado progressivo.\n",
        "* A acurácia do treinamento é registrada a cada época."
      ],
      "metadata": {
        "id": "j5Y97-n6TABM"
      },
      "id": "j5Y97-n6TABM"
    },
    {
      "cell_type": "code",
      "execution_count": 23,
      "id": "24f5bb38",
      "metadata": {
        "colab": {
          "base_uri": "https://localhost:8080/"
        },
        "id": "24f5bb38",
        "outputId": "ec3394fb-2261-4a09-ae05-8c11f4e03358"
      },
      "outputs": [
        {
          "output_type": "stream",
          "name": "stdout",
          "text": [
            "Época 1/10, Acurácia de treino: 31.22%\n",
            "Época 2/10, Acurácia de treino: 38.82%\n",
            "Época 3/10, Acurácia de treino: 50.42%\n",
            "Época 4/10, Acurácia de treino: 53.59%\n",
            "Época 5/10, Acurácia de treino: 59.07%\n",
            "Época 6/10, Acurácia de treino: 61.81%\n",
            "Época 7/10, Acurácia de treino: 63.92%\n",
            "Época 8/10, Acurácia de treino: 68.99%\n",
            "Época 9/10, Acurácia de treino: 71.10%\n",
            "Época 10/10, Acurácia de treino: 77.85%\n"
          ]
        }
      ],
      "source": [
        "criterion = nn.CrossEntropyLoss()\n",
        "optimizer = optim.Adam(model.parameters(), lr=0.001)\n",
        "epochs = 10\n",
        "\n",
        "train_accs = []\n",
        "\n",
        "for epoch in range(epochs):\n",
        "    model.train()\n",
        "    correct, total = 0, 0\n",
        "\n",
        "    for images, labels in train_loader:\n",
        "        images, labels = images.to(device), labels.to(device)\n",
        "\n",
        "        outputs = model(images)\n",
        "        loss = criterion(outputs, labels)\n",
        "\n",
        "        optimizer.zero_grad()\n",
        "        loss.backward()\n",
        "        optimizer.step()\n",
        "\n",
        "        _, predicted = torch.max(outputs, 1)\n",
        "        correct += (predicted == labels).sum().item()\n",
        "        total += labels.size(0)\n",
        "\n",
        "    acc = 100 * correct / total\n",
        "    train_accs.append(acc)\n",
        "    print(f\"Época {epoch+1}/{epochs}, Acurácia de treino: {acc:.2f}%\")"
      ]
    },
    {
      "cell_type": "markdown",
      "source": [
        "# Visualização do Desempenho\n",
        "Aqui geramos um gráfico mostrando a evolução da acurácia ao longo das épocas, permitindo avaliar o progresso do modelo."
      ],
      "metadata": {
        "id": "sxHwC6WPTNcW"
      },
      "id": "sxHwC6WPTNcW"
    },
    {
      "cell_type": "code",
      "execution_count": 24,
      "id": "6657c771",
      "metadata": {
        "colab": {
          "base_uri": "https://localhost:8080/",
          "height": 474
        },
        "id": "6657c771",
        "outputId": "e78793a4-5fed-4222-8e23-9ea2c2849340"
      },
      "outputs": [
        {
          "output_type": "display_data",
          "data": {
            "text/plain": [
              "<Figure size 640x480 with 1 Axes>"
            ],
            "image/png": "[encoded data removed]"
          },
          "metadata": {}
        }
      ],
      "source": [
        "plt.plot(train_accs, label='Acurácia de treino')\n",
        "plt.xlabel('Época')\n",
        "plt.ylabel('Acurácia (%)')\n",
        "plt.title('Desempenho durante o Treinamento')\n",
        "plt.legend()\n",
        "plt.grid()\n",
        "plt.show()"
      ]
    },
    {
      "cell_type": "markdown",
      "source": [
        "# Avaliação no Conjunto de Teste\n",
        "\n",
        "Por fim, avaliamos o modelo no conjunto de teste para verificar sua acurácia final."
      ],
      "metadata": {
        "id": "yPQoCi7PTRJo"
      },
      "id": "yPQoCi7PTRJo"
    },
    {
      "cell_type": "code",
      "execution_count": 26,
      "id": "d06d0976",
      "metadata": {
        "colab": {
          "base_uri": "https://localhost:8080/"
        },
        "id": "d06d0976",
        "outputId": "b98ecfb3-9049-42fd-e440-5e2dfe8c8d06"
      },
      "outputs": [
        {
          "output_type": "stream",
          "name": "stdout",
          "text": [
            "Acurácia no teste: 64.81%\n"
          ]
        }
      ],
      "source": [
        "model.eval()\n",
        "correct, total = 0, 0\n",
        "\n",
        "with torch.no_grad():\n",
        "    for images, labels in test_loader:\n",
        "        images, labels = images.to(device), labels.to(device)\n",
        "        outputs = model(images)\n",
        "        _, predicted = torch.max(outputs, 1)\n",
        "        correct += (predicted == labels).sum().item()\n",
        "        total += labels.size(0)\n",
        "\n",
        "print(f\"Acurácia no teste: {100 * correct / total:.2f}%\")"
      ]
    },
    {
      "cell_type": "markdown",
      "source": [
        "# Conclusão\n",
        "Neste projeto, implementamos uma Rede Neural Convolucional (CNN) do zero utilizando PyTorch para a classificação de nuvens. Passamos por diversas etapas fundamentais, incluindo:\n",
        "\n",
        "* Pré-processamento de imagens, garantindo que os dados estivessem no formato adequado.\n",
        "* Construção da CNN, utilizando camadas convolucionais, pooling e dropout para melhorar o aprendizado.\n",
        "* Treinamento do modelo, onde observamos uma evolução significativa da acurácia ao longo das épocas.\n",
        "* Avaliação no conjunto de teste, verificando o desempenho final da rede.\n",
        "\n",
        "\n",
        "Os resultados mostram que a CNN conseguiu aprender padrões relevantes para a classificação das imagens, atingindo uma acurácia de teste de aproximadamente 58.85%. Esse desempenho pode ser melhorado com técnicas como Transfer Learning, Data Augmentation e Batch Normalization, que são tópicos sugeridos no treinamento.\n",
        "\n",
        "Este projeto é um excelente ponto de partida para aprofundar o conhecimento em Deep Learning e explorar melhorias na arquitetura da CNN. 🚀"
      ],
      "metadata": {
        "id": "J1nTPJQaU9VN"
      },
      "id": "J1nTPJQaU9VN"
    }
  ],
  "metadata": {
    "colab": {
      "provenance": [],
      "gpuType": "T4"
    },
    "language_info": {
      "name": "python"
    },
    "kernelspec": {
      "name": "python3",
      "display_name": "Python 3"
    },
    "accelerator": "GPU"
  },
  "nbformat": 4,
  "nbformat_minor": 5
}